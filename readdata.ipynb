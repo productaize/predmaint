{
 "cells": [
  {
   "cell_type": "markdown",
   "id": "5822d61b-0089-4ec5-bc02-b601632d99bd",
   "metadata": {},
   "source": [
    "# Develop the application side to query the machine API\n",
    "\n",
    "The simluator is ready to report sensor data via the machine API. Now we need to query the API.\n",
    "We do this the same way as you did before: by loading the data from the web site.\n",
    "\n",
    "## Tasks\n",
    "\n",
    "1. Study the code, run it and see what it returns\n",
    "2. Get different number of records and plots its distribution\n",
    "3. Run a model prediction and check its results"
   ]
  },
  {
   "cell_type": "code",
   "execution_count": null,
   "id": "94a4be3b-5d3d-4397-9b6a-9f2bbe50b494",
   "metadata": {},
   "outputs": [],
   "source": [
    "import os\n",
    "import requests\n",
    "import pandas as pd\n",
    "import joblib\n",
    "import numpy as np\n",
    "import time\n",
    "\n",
    "def read_data(records=100):\n",
    "    resp = requests.get(f'INSERT YOUR CODE/query/{records}')\n",
    "    data = resp.json()\n",
    "\n",
    "    df = pd.DataFrame({\n",
    "        'dt': [v[0] for v in data['values']],\n",
    "        'value': [v[1] for v in data['values']],\n",
    "    })\n",
    "    return df\n",
    "\n",
    "\n",
    "df = read_data(1000)\n",
    "df"
   ]
  },
  {
   "cell_type": "markdown",
   "id": "b05d8b17-9fc8-4189-a1ec-60bff92b3c65",
   "metadata": {},
   "source": [
    "# Get different number of sensor readings and plot results"
   ]
  },
  {
   "cell_type": "code",
   "execution_count": null,
   "id": "135c60fb-a79c-409f-98a2-0e654e0afcc8",
   "metadata": {},
   "outputs": [],
   "source": [
    "df = read_data(100)\n",
    "df.hist()"
   ]
  },
  {
   "cell_type": "code",
   "execution_count": null,
   "id": "d93c3655-5b0e-4b43-a0a8-65e6b8fa00ad",
   "metadata": {},
   "outputs": [],
   "source": [
    "df = read_data(10)\n",
    "df.hist()"
   ]
  },
  {
   "cell_type": "markdown",
   "id": "46f16410-3d2d-4e07-8fe9-4104d0edd423",
   "metadata": {},
   "source": [
    "# Predict outliers from the data queried from the actual machine\n",
    "\n",
    "Is the result as expected?"
   ]
  },
  {
   "cell_type": "code",
   "execution_count": null,
   "id": "61daf0b0-a9c9-49ed-a9bb-c35a6fd2d91b",
   "metadata": {},
   "outputs": [],
   "source": [
    "from util import load_model\n",
    "\n",
    "model = load_model('models/mymodel')\n",
    "df = read_data(1000)\n",
    "y_hat = model.predict(df['value'].values.reshape(-1, 1))\n",
    "pd.Series(y_hat).value_counts().plot(kind='bar')"
   ]
  }
 ],
 "metadata": {
  "kernelspec": {
   "display_name": "Python 3 (ipykernel)",
   "language": "python",
   "name": "python3"
  },
  "language_info": {
   "codemirror_mode": {
    "name": "ipython",
    "version": 3
   },
   "file_extension": ".py",
   "mimetype": "text/x-python",
   "name": "python",
   "nbconvert_exporter": "python",
   "pygments_lexer": "ipython3",
   "version": "3.9.7"
  }
 },
 "nbformat": 4,
 "nbformat_minor": 5
}
