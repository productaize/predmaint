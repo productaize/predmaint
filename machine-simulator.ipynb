{
 "cells": [
  {
   "cell_type": "markdown",
   "id": "0de89892-c187-4869-b0c0-8aa8e4d40696",
   "metadata": {},
   "source": [
    "# Create a simulator that reports the machine's sensor values\n",
    "\n",
    "We don't have a real machine to monitor, so let's simulate one.\n",
    "For this we need a few components:\n",
    "\n",
    "* a machine that keeps running (M1)\n",
    "* a sensor attached to that machine (S1)\n",
    "* an API that we can query from our application (M-API)\n",
    "\n",
    "# Tasks\n",
    "\n",
    "1. Run the code below\n",
    "2. Query the machine using your web browser\n",
    "3. Try to run different configurations and see if this changes your output"
   ]
  },
  {
   "cell_type": "markdown",
   "id": "3ee16e7d-d045-4e5f-840f-6e9bcc608b19",
   "metadata": {},
   "source": [
    "# The machine and it's sensor"
   ]
  },
  {
   "cell_type": "code",
   "execution_count": null,
   "id": "bd101822-715f-4ca3-9039-60b17f0a8bcd",
   "metadata": {},
   "outputs": [],
   "source": [
    "import numpy as np\n",
    "from threading import Thread\n",
    "from datetime import datetime as dt\n",
    "from time import sleep\n",
    "\n",
    "\n",
    "# Configuration 1: working ok, intermittent failure\n",
    "shape, scale = 1., .1  \n",
    "# Configuration 2: fail more often\n",
    "# shape, scale = 5., .1  \n",
    "# Configuration 3: constantly failing\n",
    "# shape, scale = 10., .1   \n",
    "\n",
    "# sensor buffer\n",
    "size = 1000\n",
    "STATE = [(None, 0)] * size\n",
    "\n",
    "def sensor():\n",
    "    global STATE\n",
    "    rnd = np.random.default_rng()\n",
    "    while True:\n",
    "        data = INSERT YOUR CODE\n",
    "        for i, value in enumerate(data):\n",
    "            record = (dt.now().isoformat(), value)\n",
    "            STATE = STATE[1:] + [record]\n",
    "            sleep(.1)\n",
    "\n",
    "def machine():\n",
    "    # we use a Thread to run the machine \"in the background\"\n",
    "    t = Thread(target=sensor)\n",
    "    t.start()"
   ]
  },
  {
   "cell_type": "markdown",
   "id": "d1a0c48a-a2bb-4ffa-8582-c5f0101891c5",
   "metadata": {},
   "source": [
    "# The sensor API\n",
    "\n",
    "The sensor API is very simple\n",
    "\n",
    "* `http://localhost:5000/query/10` reports the latest 10 sensor values\n",
    "* `http://localhost:5000/query/100` reports the latest 100 sensor values\n",
    "* it can report at most `size=1000` values (we could change this)"
   ]
  },
  {
   "cell_type": "code",
   "execution_count": null,
   "id": "995c3fef-4f39-4260-a8df-4194b280d605",
   "metadata": {},
   "outputs": [],
   "source": [
    "from flask import Flask\n",
    "\n",
    "def create_app():\n",
    "    app = Flask(\"factory\")\n",
    "    \n",
    "    @app.route(\"/query/<int:records>\")\n",
    "    def data(records):\n",
    "        values = STATE[-records:]\n",
    "        return { 'values': values }\n",
    "    \n",
    "    return app\n",
    "\n",
    "\n",
    "machine()\n",
    "\n",
    "app = create_app()\n",
    "app.run()\n",
    "    \n",
    "    "
   ]
  }
 ],
 "metadata": {
  "kernelspec": {
   "display_name": "Python 3 (ipykernel)",
   "language": "python",
   "name": "python3"
  },
  "language_info": {
   "codemirror_mode": {
    "name": "ipython",
    "version": 3
   },
   "file_extension": ".py",
   "mimetype": "text/x-python",
   "name": "python",
   "nbconvert_exporter": "python",
   "pygments_lexer": "ipython3",
   "version": "3.9.7"
  }
 },
 "nbformat": 4,
 "nbformat_minor": 5
}
