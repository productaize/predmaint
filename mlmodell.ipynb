{
 "cells": [
  {
   "cell_type": "markdown",
   "id": "73f7d565-a18b-40a3-a5d9-bf470d211ab7",
   "metadata": {},
   "source": [
    "# Develop a simple visualization prototype\n",
    "\n",
    "We now have\n",
    "\n",
    "* a simulator that reports sensor values\n",
    "* a machine learning model that predicts whether any one sensor value is \"normal\" or an \"outlier\"\n",
    "\n",
    "Let's combine these two into a small application. The application should:\n",
    "\n",
    "1. Read the machine's most recent 100 values\n",
    "2. Use the ML model to predict \"normal\" or \"outlier\" for each value\n",
    "3. Plot the values + mark the outliers\n",
    "4. Calculate and plot model drift\n",
    "\n",
    "The steps 1 - 4 should be done in a loop, with updating the predictions and the plots once every second.\n",
    "\n",
    "## Tasks\n",
    "\n",
    "1. Open and run the \"machinesimulator\" notebook\n",
    "2. Study the code below and run it (section by section)"
   ]
  },
  {
   "cell_type": "code",
   "execution_count": null,
   "id": "3814c356-8693-463f-9d0c-35e500050f09",
   "metadata": {},
   "outputs": [],
   "source": [
    "# load a few imports\n",
    "import os\n",
    "import requests\n",
    "import pandas as pd\n",
    "import joblib\n",
    "import numpy as np\n",
    "import time\n",
    "\n",
    "from matplotlib import pyplot as plt\n",
    "from util import load_model, fix, read_data \n",
    "\n",
    "from IPython.display import clear_output\n",
    "\n",
    "%matplotlib inline"
   ]
  },
  {
   "cell_type": "markdown",
   "id": "bfac67f2-eed0-487f-ad04-568a8ae438bd",
   "metadata": {},
   "source": [
    "# Get the data and transform it into a dataframe that we can use for reporting\n",
    "\n",
    "We load the previously saved model and use it to predict outliers"
   ]
  },
  {
   "cell_type": "code",
   "execution_count": null,
   "id": "9defd80d-22c2-4095-a2e1-11dc1111752d",
   "metadata": {},
   "outputs": [],
   "source": [
    "alerts = {}\n",
    "\n",
    "def get_report_data(model, alerts):\n",
    "    # read the data from the machine API\n",
    "    df = read_data(100)\n",
    "    df['alert'] = False\n",
    "    df['time'] = df.index\n",
    "    # use the model to predict outliers\n",
    "    y_hat = INSERT YOUR CODE\n",
    "    # mark all outliers and record to alerts\n",
    "    df['alert'] = y_hat == -1\n",
    "    all_alerts = df[df['alert']]\n",
    "    for i, row in all_alerts.iterrows():\n",
    "        alerts.update({row.name: row['value']})\n",
    "    return df, alerts\n",
    "\n",
    "model = load_model('models/mymodel')\n",
    "df, alerts = get_report_data(model, alerts)\n",
    "df, alerts"
   ]
  },
  {
   "cell_type": "markdown",
   "id": "8a0a68d8-6822-4e32-a55e-795b789bf834",
   "metadata": {},
   "source": [
    "# Plot the sensor values\n",
    "\n",
    "We want to plot all sensor values. For each alert we plot a vertical red line."
   ]
  },
  {
   "cell_type": "code",
   "execution_count": null,
   "id": "9128d26a-385f-47bc-bbe4-10fd45e066e6",
   "metadata": {},
   "outputs": [],
   "source": [
    "def plot_sensor_values(report_df):\n",
    "    report_df.plot('time', 'value', ylim=(0, 1.5))\n",
    "    alert_times = report_df['time'][report_df['alert']]\n",
    "    plt.vlines(alert_times, 0, 1.5, color='r')\n",
    "    \n",
    "df, alerts = get_report_data(model, alerts)\n",
    "plot_sensor_values(df)"
   ]
  },
  {
   "cell_type": "markdown",
   "id": "eb2f4490-e926-4b0f-b370-9a0dbe4abc65",
   "metadata": {},
   "source": [
    "# Create first version of application\n",
    "\n",
    "We run all the code in a loop, so it updates automatically."
   ]
  },
  {
   "cell_type": "code",
   "execution_count": null,
   "id": "e36b4116-71b0-4271-82bb-98ab0f7403c8",
   "metadata": {},
   "outputs": [],
   "source": [
    "train_data = pd.read_csv('datasets/traindata.csv')    \n",
    "model = load_model('models/mymodel')\n",
    "alerts = {}\n",
    "\n",
    "while True:\n",
    "    clear_output(wait=True)\n",
    "    report_df, alerts = get_report_data(model, alerts)\n",
    "    plot_sensor_values(report_df)\n",
    "    plt.show()    \n",
    "    print(alerts)\n",
    "    time.sleep(1)  "
   ]
  },
  {
   "cell_type": "markdown",
   "id": "b3168098-da21-4163-9152-675e850d1fe5",
   "metadata": {},
   "source": [
    "# Calculate and plot model drift\n",
    "\n",
    "We want to calculate and plot model drift. Model drift means:\n",
    "\n",
    "* we know the expected distribution of predictions (i.e. the expected number of outliers, as per training data)\n",
    "* we calculate the actual distribution of alerts seen in the sensor data retrieved from the machine\n",
    "\n",
    "By comparing actual and expected distribution, we can easily see whether the model performs as expected. If the actual distribution \n",
    "of predictions is very different from the training data, something is wrong and we need to investigate.\n",
    "\n",
    "Exercises:\n",
    "\n",
    "1. Stop the machine simulator and change its configuration to \"constant failure\"\n",
    "2. Rerun the below cell to see the difference\n"
   ]
  },
  {
   "cell_type": "code",
   "execution_count": null,
   "id": "9cd6890e-ad35-467d-ae3f-f1909f756d56",
   "metadata": {},
   "outputs": [],
   "source": [
    "def calculate_expected_distribution(model, df):\n",
    "    y_hat = model.predict(fix(df['value']))\n",
    "    df['alert'] = y_hat == -1\n",
    "    return df['alert'].value_counts(normalize=True)\n",
    "\n",
    "def calculate_model_drift(df, expected):\n",
    "    actual = df['alert'].value_counts(normalize=True)\n",
    "    df = pd.DataFrame({\n",
    "         'actual': actual,\n",
    "         'expected': expected\n",
    "    })\n",
    "    return df\n",
    "\n",
    "def plot_model_drift(df, expected):\n",
    "    df = calculate_model_drift(df, expected)\n",
    "    df.plot(kind='bar')\n",
    "    \n",
    "\n",
    "report_df, alerts = get_report_data(model, alerts)\n",
    "expected = calculate_expected_distribution(model, train_data)\n",
    "plot_model_drift(report_df, expected)"
   ]
  },
  {
   "cell_type": "markdown",
   "id": "18229a8b-f2d6-49cb-a96a-93881cf473df",
   "metadata": {},
   "source": [
    "# Put everything together"
   ]
  },
  {
   "cell_type": "code",
   "execution_count": null,
   "id": "160d2510-8cb8-4f56-a388-8b075aafb217",
   "metadata": {},
   "outputs": [],
   "source": [
    "train_data = pd.read_csv('datasets/traindata.csv')    \n",
    "model = load_model('models/mymodel')\n",
    "expected = INSERT YOUR CODE\n",
    "alerts = {}\n",
    "\n",
    "while True:\n",
    "    clear_output(wait=True)\n",
    "    report_df, alerts = get_report_data(model, alerts)\n",
    "    plot_sensor_values(report_df)\n",
    "    plot_model_drift(report_df, expected)\n",
    "    plt.show()    \n",
    "    print(alerts)\n",
    "    time.sleep(1)        \n"
   ]
  }
 ],
 "metadata": {
  "kernelspec": {
   "display_name": "Python 3 (ipykernel)",
   "language": "python",
   "name": "python3"
  },
  "language_info": {
   "codemirror_mode": {
    "name": "ipython",
    "version": 3
   },
   "file_extension": ".py",
   "mimetype": "text/x-python",
   "name": "python",
   "nbconvert_exporter": "python",
   "pygments_lexer": "ipython3",
   "version": "3.9.7"
  }
 },
 "nbformat": 4,
 "nbformat_minor": 5
}
