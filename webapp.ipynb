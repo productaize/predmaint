{
 "cells": [
  {
   "cell_type": "markdown",
   "id": "e6c12b12-ad10-43f9-8121-a190569cdbaa",
   "metadata": {},
   "source": [
    "# Create a web application\n",
    "\n",
    "In our last exercise, we create the applicatoin to run in Jupyter Notebook. \n",
    "To provide the same fidelity to end-users we need to turn this into a web application.\n",
    "\n",
    "For this we need:\n",
    "\n",
    "* A layout for the web page: the sensor plot, the current alerts as a table, the model drift plot\n",
    "* the previously developed functions to get the report data and to calculate model drift\n",
    "\n",
    "We will use a framework called Plotly Dash (https://plotly.com/dash/), which makes it easy to create web applications for data analysis and machine learning.\n",
    "\n",
    "## Tasks\n",
    "\n",
    "1. For each step below, study the code and run it\n",
    "2. Check that the output matches your expectation\n",
    "3. Restart the machine simulator with a different configuration, observe how the application output changes"
   ]
  },
  {
   "cell_type": "code",
   "execution_count": null,
   "id": "e4e44a96-09ee-48d9-a3f9-84e1f1544aee",
   "metadata": {},
   "outputs": [],
   "source": [
    "# imports\n",
    "%load_ext autoreload\n",
    "%autoreload \n",
    "\n",
    "import dash\n",
    "import dash_core_components as dcc\n",
    "import dash_html_components as html\n",
    "import plotly.express as px\n",
    "import pandas as pd\n",
    "import jupyter\n",
    "from dashserve import JupyterDash\n",
    "from dash.dependencies import Output, Input\n",
    "import dash_table\n",
    "\n",
    "from util import load_model, read_data, fix"
   ]
  },
  {
   "cell_type": "markdown",
   "id": "c5a37510-363f-4495-91dc-56276c02269a",
   "metadata": {},
   "source": [
    "# Create the basic layout"
   ]
  },
  {
   "cell_type": "code",
   "execution_count": null,
   "id": "91393391-ffb9-4425-a8f3-0b26544e30cc",
   "metadata": {},
   "outputs": [],
   "source": [
    "def create_app():\n",
    "    fig_sensor = px.scatter()\n",
    "    fig_drift = px.scatter()\n",
    "\n",
    "    app = JupyterDash(__name__)\n",
    "    app.layout = html.Div(children=[\n",
    "        html.H1(children='Predictive Maintenace App'),\n",
    "        dcc.Tabs([\n",
    "            dcc.Tab(label='Machine Status', children=[\n",
    "                dcc.Graph(id='sensor-graph',\n",
    "                          figure=fig_sensor)\n",
    "            ]),\n",
    "            dcc.Tab(label='Alerts', children=[\n",
    "                dash_table.DataTable(id='alerts-table',\n",
    "                                 columns=[dict(name='dt', id='dt'),\n",
    "                                          dict(name='value', id='value')]),\n",
    "            ]),\n",
    "            dcc.Tab(label='Model drift', children=[\n",
    "                dcc.Graph(id='drift-graph',\n",
    "                          figure=fig_drift),\n",
    "            ]), \n",
    "        ]),\n",
    "        dcc.Interval(id='interval-component',\n",
    "                     interval=1*1000, # in milliseconds\n",
    "                     n_intervals=0)\n",
    "    ])\n",
    "    return app\n",
    "\n",
    "if __name__ == '__main__':\n",
    "    app = create_app()\n",
    "    app.run_server(debug=True)"
   ]
  },
  {
   "cell_type": "markdown",
   "id": "545f58f9-cdb3-4f82-b9ac-24eeef3b84aa",
   "metadata": {},
   "source": [
    "# Add sensor data"
   ]
  },
  {
   "cell_type": "code",
   "execution_count": null,
   "id": "fed44fb2-49c5-4f53-a2c0-8f4af295bc4b",
   "metadata": {
    "tags": []
   },
   "outputs": [],
   "source": [
    "def get_report_data(model, alerts):\n",
    "    # read the data from the machine API\n",
    "    df = read_data(100)\n",
    "    df['alert'] = False\n",
    "    df['time'] = df.index\n",
    "    # use the model to predict outliers\n",
    "    y_hat = <INSERT CODE HERE>\n",
    "    # mark all outliers and record to alerts\n",
    "    df['alert'] = y_hat == -1\n",
    "    all_alerts = df[df['alert']]\n",
    "    for i, row in all_alerts.iterrows():\n",
    "        alerts.update({row.name: row['value']})\n",
    "    return df, alerts\n",
    "\n",
    "\n",
    "def add_sensor_plot(app):\n",
    "    @app.callback(\n",
    "        Output(\"sensor-graph\", \"figure\"),\n",
    "        Input(\"interval-component\", \"n_intervals\")\n",
    "    )\n",
    "    def update_sensor_plot(n_intervals):\n",
    "        df, _ = get_report_data(model, alerts)\n",
    "        fig = px.scatter(df, 'time', 'value', color='alert', range_y=(0, 1))\n",
    "        return fig\n",
    "\n",
    "app = create_app()\n",
    "alerts = {}\n",
    "model = load_model('models/mymodel')\n",
    "add_sensor_plot(app)\n",
    "    \n",
    "if __name__ == '__main__':\n",
    "    app.run_server(debug=True)"
   ]
  },
  {
   "cell_type": "markdown",
   "id": "a923947d-9c47-4043-8647-21e17d56b7bc",
   "metadata": {},
   "source": [
    "# Add alert table"
   ]
  },
  {
   "cell_type": "code",
   "execution_count": null,
   "id": "fbb62c27-2887-4c53-b77f-2f6a58130ed5",
   "metadata": {},
   "outputs": [],
   "source": [
    "def add_alerts_table(app):\n",
    "    @app.callback(\n",
    "        Output(\"alerts-table\", \"data\"),\n",
    "        Input(\"interval-component\", \"n_intervals\")\n",
    "    )\n",
    "    def update_alerts_table(n_intervals):\n",
    "        _, all_alerts = get_report_data(model, alerts)\n",
    "        df = pd.DataFrame({'dt': all_alerts.keys(), 'value': all_alerts.values()})\n",
    "        return df.to_dict(orient='records')\n",
    "    \n",
    "app = create_app()\n",
    "add_sensor_plot(app)\n",
    "add_alerts_table(app)\n",
    "    \n",
    "if __name__ == '__main__':\n",
    "    app.run_server(debug=True)"
   ]
  },
  {
   "cell_type": "markdown",
   "id": "89d3e804-cebd-4f57-9e42-49bac37269e7",
   "metadata": {},
   "source": [
    "# Add model drift"
   ]
  },
  {
   "cell_type": "code",
   "execution_count": null,
   "id": "9605a3de-c510-4a22-9354-6f31e3044bce",
   "metadata": {},
   "outputs": [],
   "source": [
    "def calculate_expected_distribution(model, df):\n",
    "    y_hat = model.predict(fix(df['value']))\n",
    "    df['alert'] = y_hat == -1\n",
    "    return df['alert'].value_counts(normalize=True)\n",
    "\n",
    "def calculate_model_drift(df, expected):\n",
    "    actual = df['alert'].value_counts(normalize=True)\n",
    "    df = pd.DataFrame({\n",
    "         'actual': actual,\n",
    "         'expected': expected\n",
    "    })\n",
    "    return df\n",
    "\n",
    "\n",
    "def add_drift_plot(app):\n",
    "    train_data = pd.read_csv('datasets/traindata.csv')    \n",
    "    model = load_model('models/mymodel')\n",
    "    expected = calculate_expected_distribution(model, train_data)\n",
    "\n",
    "    @app.callback(\n",
    "        Output(\"drift-graph\", \"figure\"),\n",
    "        Input(\"interval-component\", \"n_intervals\")\n",
    "    )\n",
    "    def update_drift_plot(n_intervals):\n",
    "        df, _ = get_report_data(model, alerts)\n",
    "        df_drift = calculate_model_drift(df, expected)\n",
    "        fig = px.bar(df_drift, y=['actual', 'expected'], barmode='group')\n",
    "        return fig\n",
    "\n",
    "app = create_app()\n",
    "add_sensor_plot(app)\n",
    "add_alerts_table(app)\n",
    "add_drift_plot(app)\n",
    "    \n",
    "if __name__ == '__main__':\n",
    "    app.run_server(debug=True)"
   ]
  }
 ],
 "metadata": {
  "kernelspec": {
   "display_name": "Python 3 (ipykernel)",
   "language": "python",
   "name": "python3"
  },
  "language_info": {
   "codemirror_mode": {
    "name": "ipython",
    "version": 3
   },
   "file_extension": ".py",
   "mimetype": "text/x-python",
   "name": "python",
   "nbconvert_exporter": "python",
   "pygments_lexer": "ipython3",
   "version": "3.9.7"
  }
 },
 "nbformat": 4,
 "nbformat_minor": 5
}
